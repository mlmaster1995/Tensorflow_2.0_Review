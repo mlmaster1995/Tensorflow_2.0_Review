{
 "cells": [
  {
   "cell_type": "code",
   "execution_count": 1,
   "metadata": {},
   "outputs": [
    {
     "data": {
      "text/html": [
       "<style>.container { width:100% !important; }</style>"
      ],
      "text/plain": [
       "<IPython.core.display.HTML object>"
      ]
     },
     "metadata": {},
     "output_type": "display_data"
    }
   ],
   "source": [
    "from IPython.core.display import display, HTML\n",
    "display(HTML(\"<style>.container { width:100% !important; }</style>\"))"
   ]
  },
  {
   "cell_type": "code",
   "execution_count": 2,
   "metadata": {},
   "outputs": [],
   "source": [
    "import tensorflow as tf\n",
    "import statistics\n",
    "import pandas as pd\n",
    "import numpy as np\n",
    "from sklearn import datasets\n",
    "from sklearn.model_selection import train_test_split\n",
    "import matplotlib.pyplot as plt\n",
    "import os\n",
    "plt.style.use('seaborn')"
   ]
  },
  {
   "cell_type": "code",
   "execution_count": 3,
   "metadata": {},
   "outputs": [
    {
     "name": "stdout",
     "output_type": "stream",
     "text": [
      "Tensorflow GPU Version: 2.0.0\n",
      "Eager Execution is: True\n",
      "Keras Version: 2.2.4-tf\n"
     ]
    }
   ],
   "source": [
    "'''\n",
    "- check tensorflow and keras version\n",
    "'''\n",
    "print(f'Tensorflow GPU Version: {tf.__version__}')\n",
    "print(f'Eager Execution is: {tf.executing_eagerly()}')\n",
    "print(f'Keras Version: {tf.keras.__version__}')"
   ]
  },
  {
   "cell_type": "code",
   "execution_count": 4,
   "metadata": {},
   "outputs": [
    {
     "name": "stdout",
     "output_type": "stream",
     "text": [
      "Running on GPU\n"
     ]
    },
    {
     "name": "stderr",
     "output_type": "stream",
     "text": [
      "Using TensorFlow backend.\n"
     ]
    },
    {
     "data": {
      "text/plain": [
       "['/job:localhost/replica:0/task:0/device:GPU:0']"
      ]
     },
     "execution_count": 4,
     "metadata": {},
     "output_type": "execute_result"
    }
   ],
   "source": [
    "'''\n",
    "- check GPU \n",
    "'''\n",
    "var = tf.Variable([3,3])\n",
    "if tf.test.is_gpu_available():\n",
    "    print('Running on GPU')\n",
    "else:\n",
    "    print('Runing on CPU')\n",
    "\n",
    "from keras import backend as K\n",
    "K.tensorflow_backend._get_available_gpus()"
   ]
  },
  {
   "cell_type": "markdown",
   "metadata": {},
   "source": [
    "# MLP model"
   ]
  },
  {
   "cell_type": "code",
   "execution_count": 10,
   "metadata": {},
   "outputs": [],
   "source": [
    "'''\n",
    "- MLP layer\n",
    "'''\n",
    "class MLP(tf.keras.layers.Layer):\n",
    "    def __init__(self, units=3, activation=None, trainable=True, name=None, dtype=tf.float32, **kwargs):\n",
    "        super(MLP, self).__init__( name=name, trainable = trainable, dtype=dtype, **kwargs)\n",
    "        self.units = units\n",
    "        self.__activation_name = activation\n",
    "        self.activation = tf.keras.activations.get(activation)\n",
    "        \n",
    "    def build(self, input_shape):\n",
    "        self.w = self.add_weight(shape=(input_shape[-1], self.units),initializer='random_normal',)\n",
    "        self.b = self.add_weight(shape=(self.units,),initializer='random_normal')\n",
    "        \n",
    "    def get_config(self):\n",
    "        config_dic ={\n",
    "            'units':self.units,\n",
    "            'activation': self.__activation_name, \n",
    "            'trainable_weights & bias':self.trainable_weights,\n",
    "            'non-trainable_weights & bias':self.non_trainable_weights,\n",
    "        }\n",
    "        config = super(MLP,self).get_config()\n",
    "        config.update(config_dic)\n",
    "        return config\n",
    "    \n",
    "    def call(self, inputs, training = None):\n",
    "        if tf.rank(inputs)==1:\n",
    "            inputs = tf.keras.backend.expand_dims(inputs, axis=0)\n",
    "        linear_combination = tf.matmul(inputs, self.w)+self.b \n",
    "        return self.activation(linear_combination)"
   ]
  },
  {
   "cell_type": "markdown",
   "metadata": {},
   "source": [
    "# Multi-layer Perceptron Model"
   ]
  },
  {
   "cell_type": "code",
   "execution_count": 7,
   "metadata": {},
   "outputs": [],
   "source": [
    "'''\n",
    "- subclass model\n",
    "'''\n",
    "class MLP_Model(tf.keras.Model):\n",
    "    def __init__(self, **kwargs):\n",
    "        super(MLP_Model, self).__init__(self, **kwargs)\n",
    "        self.mlp1 = MLP(256, activation='sigmoid')\n",
    "        self.mlp2 = MLP(128, activation='sigmoid')\n",
    "        self.mlp3 = MLP(10, acitivation='softmax')\n",
    "        \n",
    "    def call(self, inputs):\n",
    "        opt = self.mlp1(inputs)\n",
    "        opt = self.mlp2(opt)\n",
    "        opt = self.mlp3(opt)\n",
    "        return opt"
   ]
  },
  {
   "cell_type": "markdown",
   "metadata": {},
   "source": [
    "# Logistic Regression Model"
   ]
  },
  {
   "cell_type": "code",
   "execution_count": 12,
   "metadata": {},
   "outputs": [],
   "source": [
    "'''\n",
    "- logistic regression\n",
    "- perform binary classification with multi-labels\n",
    "'''\n",
    "class LogisticRegression(tf.keras.Model):\n",
    "    def __init__(self,labels=1, **kwargs):\n",
    "        super(LogisticRegression, self).__init__(self, **kwargs)\n",
    "        self.label = labels\n",
    "        self.lglayer = MLP(labels, activation='sigmoid')\n",
    "    \n",
    "    def call(self, inputs):\n",
    "        opt= self.lglayer(inputs)\n",
    "        return opt"
   ]
  },
  {
   "cell_type": "code",
   "execution_count": 13,
   "metadata": {},
   "outputs": [],
   "source": [
    "lg_model = LogisticRegression(labels=3)"
   ]
  },
  {
   "cell_type": "markdown",
   "metadata": {},
   "source": [
    "# Weighted KNN"
   ]
  },
  {
   "cell_type": "code",
   "execution_count": 89,
   "metadata": {},
   "outputs": [],
   "source": [
    "class WKNN(tf.keras.Model):\n",
    "    '''\n",
    "    - weighted KNN algorithm refers to the paper published by Klaus Hechenbichler and Klaus Schliep in 2004\n",
    "    - paper link: https://epub.ub.uni-muenchen.de/1769/1/paper_399.pdf\n",
    "    - the paper provoides 3 similarity calculations and 8 weight transfer kernels, but in this model only basics are implemented\n",
    "        similarity calculation: Euclidean Distance\n",
    "        weight transfer calculation: Inversion Kernel\n",
    "    - class arguments: \n",
    "        train_data: numpy array, tensor data, \n",
    "        train_labels: numpy array, tensor data, \n",
    "        k_value: must be an integer\n",
    "    - call method: \n",
    "        \n",
    "    '''\n",
    "    def __init__(self, train_data, train_labels, k_value, **kwargs):\n",
    "        super(WKNN, self).__init__(self, **kwargs)\n",
    "        self._K = k_value\n",
    "        self._data = tf.convert_to_tensor(train_data, dtype=tf.float32)\n",
    "        self._label = tf.convert_to_tensor(train_labels)\n",
    "        self._inputs = None\n",
    "        self._clf_res = None\n",
    "    \n",
    "    @tf.function\n",
    "    def __clf_predict(self, weights):\n",
    "        # extract top kth weights and indices\n",
    "        top_k_weights, top_k_indicies = tf.math.top_k(weights, self._K)\n",
    "        # extract top kth labels \n",
    "        top_k_labels = tf.gather(self._label, top_k_indicies)\n",
    "        # cast labels to float type and concatenate to the weights\n",
    "        top_k_labels = tf.cast(tf.expand_dims(top_k_labels, axis=1), tf.float16)\n",
    "        weight_label_matrix = tf.concat(top_k_weights, top_k_labels)\n",
    "        # sort weight_label_matrix in ascending way based on the label order\n",
    "        ascending_index = tf.argsort(weight_label_matrix[:,1], direction='ASCENDING')\n",
    "        sorted_weight_label_matrix = tf.gather(weight_label_matrix, ascending_index)\n",
    "        # get segment for labels and weights\n",
    "        segment= tf.cast(sorted_weight_label_matrix[:,1],tf.int32)\n",
    "        segment_weight = tf.expand_dims(sorted_weight_label_matrix[:,0], axis=1)\n",
    "        # sum all weights in each label segment\n",
    "        weight_sum = tf.math.segment_sum(segment_weight, segment)\n",
    "        # max weight is the predict classification type\n",
    "        return tf.argmax(weight_sum)\n",
    "    \n",
    "    @tf.function\n",
    "    def __calc_similarity(self, transistion_matrix):\n",
    "        similarity = tf.reduce_sum(tf.math.squared_difference(transition_matrix, self.__data, name='similarity'), axis=1)\n",
    "        return similarity\n",
    "    \n",
    "    @tf.function\n",
    "    def __inversion_kernel(self, similarity):\n",
    "        zero_replacements = tf.math.multiply(tf.ones(shape=(similarity.shape)),0.1)\n",
    "        similarity = tf.where(tf.math.not_equal(similarity, 0), similarity, zero_replacements)\n",
    "        return tf.math.divide_no_nan(1, similarity)\n",
    "    \n",
    "    @tf.function\n",
    "    def __wknn(self, row):\n",
    "        # get a transistion matrix to expend 1*n to m*n, m is rows of training data\n",
    "        trans_row = tf.ones(shape=(self._data.shape[0],1))\n",
    "        row = tf.expand_dims(row, axis=0)\n",
    "        transition_matrix = tf.matmul(trans_row, row)        \n",
    "        # get similarity between input data and the train data\n",
    "        similarity = __calc_similarity(transistion_matrix)\n",
    "        # transit similarity to weights\n",
    "        weights = __inversion_kernel(similarity)\n",
    "        # predict the classification\n",
    "        self._clf_res.append(__clf_predict(weights))\n",
    "    \n",
    "    @tf.function\n",
    "    def __body(self, i, ipt):\n",
    "        row = self._inputs[i]\n",
    "        __WKNN(row)\n",
    "        return (i, row)\n",
    "    \n",
    "    def call(self, inputs):\n",
    "        # initialization test data\n",
    "        self._inputs = tf.convert_to_tensor(inputs, dtype=tf.float32)\n",
    "        self.clf_res =tf.zeros(shape=(1,self._inputs.shape[1]))\n",
    "        # call algorithm in a loop\n",
    "        index = tf.constant(0)\n",
    "        c = lambda i, ipt: tf.less(i, self._inputs.shape[1])\n",
    "        _ = tf.while_loop(c, __body, [index, self._inputs[index]])\n",
    "        # return result\n",
    "        return self._clf_res"
   ]
  },
  {
   "cell_type": "code",
   "execution_count": null,
   "metadata": {},
   "outputs": [],
   "source": []
  },
  {
   "cell_type": "code",
   "execution_count": null,
   "metadata": {},
   "outputs": [],
   "source": []
  },
  {
   "cell_type": "code",
   "execution_count": null,
   "metadata": {},
   "outputs": [],
   "source": []
  },
  {
   "cell_type": "markdown",
   "metadata": {},
   "source": [
    "# Unsupervised Learning Model"
   ]
  },
  {
   "cell_type": "code",
   "execution_count": null,
   "metadata": {},
   "outputs": [],
   "source": []
  },
  {
   "cell_type": "code",
   "execution_count": null,
   "metadata": {},
   "outputs": [],
   "source": []
  },
  {
   "cell_type": "code",
   "execution_count": null,
   "metadata": {},
   "outputs": [],
   "source": []
  },
  {
   "cell_type": "code",
   "execution_count": null,
   "metadata": {},
   "outputs": [],
   "source": []
  },
  {
   "cell_type": "code",
   "execution_count": null,
   "metadata": {},
   "outputs": [],
   "source": []
  },
  {
   "cell_type": "code",
   "execution_count": null,
   "metadata": {},
   "outputs": [],
   "source": []
  },
  {
   "cell_type": "code",
   "execution_count": null,
   "metadata": {},
   "outputs": [],
   "source": []
  },
  {
   "cell_type": "code",
   "execution_count": null,
   "metadata": {},
   "outputs": [],
   "source": []
  },
  {
   "cell_type": "code",
   "execution_count": null,
   "metadata": {},
   "outputs": [],
   "source": []
  },
  {
   "cell_type": "code",
   "execution_count": null,
   "metadata": {},
   "outputs": [],
   "source": []
  },
  {
   "cell_type": "code",
   "execution_count": null,
   "metadata": {},
   "outputs": [],
   "source": []
  },
  {
   "cell_type": "code",
   "execution_count": null,
   "metadata": {},
   "outputs": [],
   "source": []
  },
  {
   "cell_type": "code",
   "execution_count": null,
   "metadata": {},
   "outputs": [],
   "source": []
  },
  {
   "cell_type": "code",
   "execution_count": null,
   "metadata": {},
   "outputs": [],
   "source": []
  }
 ],
 "metadata": {
  "kernelspec": {
   "display_name": "Python 3",
   "language": "python",
   "name": "python3"
  },
  "language_info": {
   "codemirror_mode": {
    "name": "ipython",
    "version": 3
   },
   "file_extension": ".py",
   "mimetype": "text/x-python",
   "name": "python",
   "nbconvert_exporter": "python",
   "pygments_lexer": "ipython3",
   "version": "3.7.7"
  }
 },
 "nbformat": 4,
 "nbformat_minor": 4
}
